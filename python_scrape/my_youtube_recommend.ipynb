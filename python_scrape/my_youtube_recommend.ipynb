{
 "cells": [
  {
   "cell_type": "code",
   "execution_count": null,
   "metadata": {},
   "outputs": [],
   "source": [
    "import json\n",
    "import requests\n",
    "import pandas as pd\n",
    "from bs4 import BeautifulSoup\n",
    "from selenium import webdriver\n",
    "from selenium.webdriver import Chrome\n",
    "from selenium.webdriver.common.by import By\n",
    "from selenium.webdriver.chrome.options import Options\n",
    "from selenium.webdriver.support.ui import WebDriverWait\n",
    "from selenium.webdriver.support import expected_conditions as EC"
   ]
  },
  {
   "cell_type": "code",
   "execution_count": null,
   "metadata": {},
   "outputs": [],
   "source": [
    "YOUTUBE_ = 'https://www.youtube.com/?hl=ja&gl=JP'"
   ]
  },
  {
   "cell_type": "code",
   "execution_count": null,
   "metadata": {},
   "outputs": [],
   "source": [
    "def start_selenium():\n",
    "    options = Options()\n",
    "    options.add_argument('--headless')\n",
    "    driver = webdriver.Chrome(options = options, executable_path='chromedriver.exe')\n",
    "    driver.set_window_size(1000,1000)\n",
    "    return driver"
   ]
  },
  {
   "cell_type": "code",
   "execution_count": null,
   "metadata": {},
   "outputs": [],
   "source": [
    "driver = start_selenium()\n",
    "driver.set_window_size(1200,900)\n",
    "driver.get(YOUTUBE_)\n",
    "soup = BeautifulSoup(driver.page_source, 'lxml')"
   ]
  },
  {
   "cell_type": "code",
   "execution_count": null,
   "metadata": {},
   "outputs": [],
   "source": [
    "channels = soup.find_all(\"div\" , class_=\"style-scope ytd-rich-grid-video-renderer\")"
   ]
  },
  {
   "cell_type": "code",
   "execution_count": null,
   "metadata": {},
   "outputs": [],
   "source": [
    "title_list = []\n",
    "for j in channels:\n",
    "    for i in j:\n",
    "        try:\n",
    "            thumbnail = j.find('img' , class_ = \"style-scope yt-img-shadow\").attrs['src']\n",
    "        except:\n",
    "            pass\n",
    "        if i.find('div', class_=\"style-scope ytd-rich-grid-video-renderer\") is not None:\n",
    "            aaa = i.find_all('div', class_=\"style-scope ytd-rich-grid-video-renderer\")\n",
    "    for i in aaa:\n",
    "        try:\n",
    "            y_video_dict = {\n",
    "                'title' : i.find('a').attrs['title'],\n",
    "                'youtube_url' : f\"https://www.youtube.com/{i.find('a').attrs['href']}\",\n",
    "                'thumbnail' : thumbnail\n",
    "            }\n",
    "            title_list.append(y_video_dict)\n",
    "        except:\n",
    "            pass\n",
    "driver.close()\n",
    "driver.quit()\n"
   ]
  },
  {
   "cell_type": "code",
   "execution_count": null,
   "metadata": {},
   "outputs": [],
   "source": [
    "df = pd.DataFrame(title_list)\n",
    "df.head()"
   ]
  }
 ],
 "metadata": {
  "kernelspec": {
   "display_name": "Python 3",
   "language": "python",
   "name": "python3"
  },
  "language_info": {
   "codemirror_mode": {
    "name": "ipython",
    "version": 3
   },
   "file_extension": ".py",
   "mimetype": "text/x-python",
   "name": "python",
   "nbconvert_exporter": "python",
   "pygments_lexer": "ipython3",
   "version": "3.7.0"
  }
 },
 "nbformat": 4,
 "nbformat_minor": 2
}
